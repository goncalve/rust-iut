{
 "cells": [
  {
   "cell_type": "markdown",
   "metadata": {
    "slideshow": {
     "slide_type": "slide"
    }
   },
   "source": [
    "Introduction à Rust\n",
    "\n",
    "# Séance 1 – Présentations\n",
    "\n",
    "[Pierre-Antoine Champin](http://champin.net/)\n",
    "\n",
    "Département Info Doua – [IUT Lyon 1](http://iut.univ-lyon1.fr/)"
   ]
  },
  {
   "cell_type": "code",
   "execution_count": 2,
   "metadata": {},
   "outputs": [],
   "source": [
    "fn main() {  \n",
    "    println!(\"hello world\");\n",
    "}"
   ]
  },
  {
   "cell_type": "markdown",
   "metadata": {
    "slideshow": {
     "slide_type": "slide"
    }
   },
   "source": [
    "## Syntaxe"
   ]
  },
  {
   "cell_type": "markdown",
   "metadata": {
    "slideshow": {
     "slide_type": "subslide"
    }
   },
   "source": [
    "### Exemple, la fonction factorielle"
   ]
  },
  {
   "cell_type": "code",
   "execution_count": 3,
   "metadata": {},
   "outputs": [],
   "source": [
    "fn fact(n: u64) -> u64 {\n",
    "    if n == 0 {\n",
    "        return 1;\n",
    "    } else {\n",
    "        return n*fact(n-1);\n",
    "    }\n",
    "}"
   ]
  },
  {
   "cell_type": "code",
   "execution_count": 4,
   "metadata": {
    "slideshow": {
     "slide_type": "-"
    }
   },
   "outputs": [
    {
     "data": {
      "text/plain": [
       "2432902008176640000"
      ]
     },
     "execution_count": 4,
     "metadata": {},
     "output_type": "execute_result"
    }
   ],
   "source": [
    "fact(20)"
   ]
  },
  {
   "cell_type": "markdown",
   "metadata": {
    "slideshow": {
     "slide_type": "fragment"
    }
   },
   "source": [
    "* `fn` désigne une fonction\n",
    "* `n: u64` désigne un paramètre, suivi de son type (entier non signé sur 64 bits)\n",
    "* `-> u64` indique le type de retour (facultatif si la fonction ne retourne rien)\n",
    "* pas de parenthèse autour de la condition du `if`"
   ]
  },
  {
   "cell_type": "markdown",
   "metadata": {
    "slideshow": {
     "slide_type": "subslide"
    }
   },
   "source": [
    "### Version itérative"
   ]
  },
  {
   "cell_type": "code",
   "execution_count": 5,
   "metadata": {},
   "outputs": [],
   "source": [
    "fn fact(n: u64) -> u64 {\n",
    "    let mut f: u64 = 1;\n",
    "    let mut i: u64 = 2;\n",
    "    while i <= n {\n",
    "        f *= i;\n",
    "        i += 1;\n",
    "    }\n",
    "    return f;\n",
    "}"
   ]
  },
  {
   "cell_type": "code",
   "execution_count": 6,
   "metadata": {
    "slideshow": {
     "slide_type": "skip"
    }
   },
   "outputs": [],
   "source": [
    "assert_eq!(fact(7), 5040); // test"
   ]
  },
  {
   "cell_type": "markdown",
   "metadata": {
    "slideshow": {
     "slide_type": "fragment"
    }
   },
   "source": [
    "* `let` sert à déclarer une variable\n",
    "* `mut` indique que la variable est mutable (c.à.d. que sa valeur va changer au cours de sa vie)\n",
    "* pas de parenthèse autour de la condition du `while`"
   ]
  },
  {
   "cell_type": "markdown",
   "metadata": {
    "slideshow": {
     "slide_type": "subslide"
    }
   },
   "source": [
    "### Version itérative plus idiomatique 🦀"
   ]
  },
  {
   "cell_type": "code",
   "execution_count": 7,
   "metadata": {},
   "outputs": [],
   "source": [
    "fn fact(n: u64) -> u64 {\n",
    "    let mut f = 1;\n",
    "    let mut i = 2;\n",
    "    while i <= n {\n",
    "        f *= i;\n",
    "        i += 1;\n",
    "    }\n",
    "    f \n",
    "}"
   ]
  },
  {
   "cell_type": "code",
   "execution_count": 8,
   "metadata": {
    "slideshow": {
     "slide_type": "skip"
    }
   },
   "outputs": [],
   "source": [
    "assert_eq!(fact(7), 5040); // test"
   ]
  },
  {
   "cell_type": "markdown",
   "metadata": {
    "slideshow": {
     "slide_type": "fragment"
    }
   },
   "source": [
    "* 🦀 **inférence de type**: le compilateur est le plus souvent capable de deviner le type d'une variable locale ; dans ce cas, il n'est pas nécessaire de le préciser\n",
    "* il faut quand même préciser `mut` (pour éviter les erreurs)\n",
    "* 🦀 tout bloc de code (entre accolades) est une **expression** dont la valeur est la dernière expression du bloc (sans point-virgule)\n",
    "* une fonction qui atteint la fin de son bloc retourne la valeur de ce bloc"
   ]
  },
  {
   "cell_type": "code",
   "execution_count": 9,
   "metadata": {
    "slideshow": {
     "slide_type": "subslide"
    }
   },
   "outputs": [
    {
     "data": {
      "text/plain": [
       "5"
      ]
     },
     "execution_count": 9,
     "metadata": {},
     "output_type": "execute_result"
    }
   ],
   "source": [
    "// autre exemple de d'utilisation d'un bloc comme une expression\n",
    "let x = 42;\n",
    "let y = {\n",
    "    let mut z = x;\n",
    "    while z >= 10 {\n",
    "        z = z/2;\n",
    "    }\n",
    "    z\n",
    "};\n",
    "\n",
    "y"
   ]
  },
  {
   "cell_type": "markdown",
   "metadata": {
    "slideshow": {
     "slide_type": "subslide"
    }
   },
   "source": [
    "### Version récursive plus idiomatique 🦀"
   ]
  },
  {
   "cell_type": "code",
   "execution_count": 10,
   "metadata": {},
   "outputs": [],
   "source": [
    "fn fact(n: u64) -> u64 {\n",
    "    if n == 0 {\n",
    "        1\n",
    "    } else {\n",
    "        n*fact(n-1)\n",
    "    }\n",
    "}"
   ]
  },
  {
   "cell_type": "code",
   "execution_count": 11,
   "metadata": {
    "slideshow": {
     "slide_type": "skip"
    }
   },
   "outputs": [],
   "source": [
    "assert_eq!(fact(7), 5040); // test"
   ]
  },
  {
   "cell_type": "markdown",
   "metadata": {
    "slideshow": {
     "slide_type": "fragment"
    }
   },
   "source": [
    "* une structure `if` est une expression dont la valeur est celle du bloc \"then\" ou du bloc `else`\n",
    "* le retour de la fonction `fact` est donc ici la valeur du `if`"
   ]
  },
  {
   "cell_type": "code",
   "execution_count": 12,
   "metadata": {
    "slideshow": {
     "slide_type": "subslide"
    }
   },
   "outputs": [
    {
     "data": {
      "text/plain": [
       "41"
      ]
     },
     "execution_count": 12,
     "metadata": {},
     "output_type": "execute_result"
    }
   ],
   "source": [
    "// autre exemple de d'utilisation d'un bloc if comme une expression\n",
    "let x = -42;\n",
    "\n",
    "let a = if x>=0 {\n",
    "    x\n",
    "} else {\n",
    "    -x-1\n",
    "};\n",
    "\n",
    "a"
   ]
  },
  {
   "cell_type": "markdown",
   "metadata": {
    "slideshow": {
     "slide_type": "subslide"
    }
   },
   "source": [
    "### Boucle `for`"
   ]
  },
  {
   "cell_type": "code",
   "execution_count": 13,
   "metadata": {},
   "outputs": [],
   "source": [
    "fn fact(n: u64) -> u64 {\n",
    "    let mut f = 1;\n",
    "    for i in 2..=n {\n",
    "        f *= i;\n",
    "    }\n",
    "    f\n",
    "}"
   ]
  },
  {
   "cell_type": "code",
   "execution_count": 14,
   "metadata": {
    "slideshow": {
     "slide_type": "skip"
    }
   },
   "outputs": [],
   "source": [
    "assert_eq!(fact(7), 5040); // test"
   ]
  },
  {
   "cell_type": "markdown",
   "metadata": {
    "slideshow": {
     "slide_type": "fragment"
    }
   },
   "source": [
    "* la boucle `for` prend un **itérateur** et itère sur toutes ses valeurs\n",
    "* `i..=j` itère sur toutes les valeurs de l'intervalle $[i,j]$\n",
    "* `i..j` itère sur toutes les valeurs de l'intervalle $[i,j[$"
   ]
  },
  {
   "cell_type": "markdown",
   "metadata": {
    "slideshow": {
     "slide_type": "subslide"
    }
   },
   "source": [
    "### Clause `match`"
   ]
  },
  {
   "cell_type": "code",
   "execution_count": 15,
   "metadata": {},
   "outputs": [],
   "source": [
    "fn fact(n: u64) -> u64 {\n",
    "    match n {\n",
    "        0 | 1 => 1,\n",
    "        2..=20 => n*fact(n-1),\n",
    "        _ => panic!(\"trop grand\"),\n",
    "    }\n",
    "}"
   ]
  },
  {
   "cell_type": "markdown",
   "metadata": {
    "slideshow": {
     "slide_type": "fragment"
    }
   },
   "source": [
    "* La clause `match` est une expression.\n",
    "* Elle évalue la première « branche » (*leg*)\n",
    "  satisfaite par la valeur passée.\n",
    "* Le choix `_` est satifait par n'importe quelle valeur.\n",
    "* La clause match doit être **exhaustive** (les choix doivent couvrir toutes les valeurs possibles).\n",
    "\n",
    "NB: la clause `match` est beaucoup plus puissante que ce que cet exemple montre. On la retrouvera plus tard..."
   ]
  },
  {
   "cell_type": "markdown",
   "metadata": {
    "slideshow": {
     "slide_type": "slide"
    }
   },
   "source": [
    "## Types"
   ]
  },
  {
   "cell_type": "markdown",
   "metadata": {
    "slideshow": {
     "slide_type": "subslide"
    }
   },
   "source": [
    "### Types primitifs\n",
    "\n",
    "* Entiers (`i8`, `i16`, `i32`, `i64`, `i128`, `isize`) — e.g. `42`, `-1`\n",
    "    \n",
    "* Entiers non signés (`u8`, `u16`, `u32`, `u64`, `u128`, `usize`) — e.g. `42`, `101`\n",
    "    \n",
    "* Flottants (`f32`, `f64`) — e.g. `1.0`, `3.14`, `6.626e-34`\n",
    "* Booléen (`bool`) — e.g. `true`, `false`\n",
    "* Caractère (`char`) — e.g. `'&'`, `'ê'`, `'π'`, `'☃'` (unicode → 32 bits)\n",
    "* Chaîne (`String`) — plus de détail à la prochaine séance"
   ]
  },
  {
   "cell_type": "code",
   "execution_count": null,
   "metadata": {},
   "outputs": [],
   "source": []
  },
  {
   "cell_type": "markdown",
   "metadata": {
    "slideshow": {
     "slide_type": "subslide"
    }
   },
   "source": [
    "### Tuples"
   ]
  },
  {
   "cell_type": "code",
   "execution_count": 16,
   "metadata": {},
   "outputs": [],
   "source": [
    "/// Retourne le quotient et le reste\n",
    "/// de la division euclidienne de a par b\n",
    "fn divmod(a: i64, b: i64) -> (i64, i64) {\n",
    "    (a/b, a%b)\n",
    "}\n",
    "\n",
    "let (q, r) = divmod(101, 42);"
   ]
  },
  {
   "cell_type": "markdown",
   "metadata": {
    "slideshow": {
     "slide_type": "fragment"
    }
   },
   "source": [
    "* Les tuples peuvent être hétérogènes (e.g. `(i32, f64, i32)`).\n",
    "* Les tuples peuvent être de taille quelconque (mais chaque type de tuple a une taille fixe).\n",
    "* Le type « tuple de taille zéro » `()` est appelé *unit* ou *nil* ;\n",
    "  c'est le type de retour implicite des fonctions ne retournant rien."
   ]
  },
  {
   "cell_type": "markdown",
   "metadata": {
    "slideshow": {
     "slide_type": "subslide"
    }
   },
   "source": [
    "#### Accéder aux champs d'un tuple"
   ]
  },
  {
   "cell_type": "code",
   "execution_count": 17,
   "metadata": {},
   "outputs": [
    {
     "name": "stdout",
     "output_type": "stream",
     "text": [
      "Le quotient est 2\n",
      "Le reste est 17\n"
     ]
    }
   ],
   "source": [
    "let t = divmod(101, 42);\n",
    "println!(\"Le quotient est {}\", t.0);\n",
    "println!(\"Le reste est {}\", t.1);"
   ]
  },
  {
   "cell_type": "markdown",
   "metadata": {
    "slideshow": {
     "slide_type": "subslide"
    }
   },
   "source": [
    "### Tableaux"
   ]
  },
  {
   "cell_type": "code",
   "execution_count": 18,
   "metadata": {},
   "outputs": [],
   "source": [
    "/// Retourne l'indice de la plus petite valeur de a\n",
    "fn imin(a: &[i64]) -> usize {\n",
    "    let mut im = 0;\n",
    "    for i in 1..a.len() {\n",
    "        if a[i] < a[im] {\n",
    "            im = i;\n",
    "        }\n",
    "    }\n",
    "    im\n",
    "}"
   ]
  },
  {
   "cell_type": "code",
   "execution_count": 19,
   "metadata": {},
   "outputs": [
    {
     "data": {
      "text/plain": [
       "2"
      ]
     },
     "execution_count": 19,
     "metadata": {},
     "output_type": "execute_result"
    }
   ],
   "source": [
    "imin(&[11, 5, -8, 9])"
   ]
  },
  {
   "cell_type": "markdown",
   "metadata": {
    "slideshow": {
     "slide_type": "subslide"
    }
   },
   "source": [
    "* Pour tout type T, le type « tableau de T » s'écrit `[T]` (on reviendra plus tard sur le `&`).\n",
    "* En Rust, tout tableau « connait » sa taille, accessible par la méthode `len`.\n",
    "* L'accès aux éléments se fait avec la notation `a[i]`.\n",
    "* L'accès à un sous-tableau se fait avec la notation `a[i..j]`.\n",
    "* L'accès à un indice invalide déclenchera *toujours* une erreur (≠ C, C++).\n",
    "* Le type des indices est toujours `usize`."
   ]
  },
  {
   "cell_type": "markdown",
   "metadata": {
    "slideshow": {
     "slide_type": "subslide"
    }
   },
   "source": [
    "### Pas de conversion implicite"
   ]
  },
  {
   "cell_type": "code",
   "execution_count": 20,
   "metadata": {},
   "outputs": [
    {
     "ename": "Error",
     "evalue": "mismatched types",
     "output_type": "error",
     "traceback": [
      "let y: f64 = x;",
      "\u001b[91m             ^\u001b[0m \u001b[94mexpected f64, found f32\u001b[0m",
      "mismatched types"
     ]
    }
   ],
   "source": [
    "// ce code ne compile pas\n",
    "let x: f32 = 3.14;\n",
    "let y: f64 = x;"
   ]
  },
  {
   "cell_type": "code",
   "execution_count": 21,
   "metadata": {
    "slideshow": {
     "slide_type": "fragment"
    }
   },
   "outputs": [],
   "source": [
    "let x: f32 = 3.14;\n",
    "let y: f64 = x.into();"
   ]
  },
  {
   "cell_type": "markdown",
   "metadata": {
    "slideshow": {
     "slide_type": "fragment"
    }
   },
   "source": [
    "* Oui, les types primitifs ont également des méthodes.\n",
    "* La méthode `into` est générique sur ton type de retour,\n",
    "  le compilateur infère le type approprié.\n",
    "* La méthode `into` n'existe que quand la conversion est garantie de fonctionner."
   ]
  },
  {
   "cell_type": "markdown",
   "metadata": {
    "slideshow": {
     "slide_type": "slide"
    }
   },
   "source": [
    "## Rigueur et souplesse"
   ]
  },
  {
   "cell_type": "markdown",
   "metadata": {
    "slideshow": {
     "slide_type": "subslide"
    }
   },
   "source": [
    "### Masquage (*shadowing*)\n",
    "\n",
    "* Rust autorise, y compris dans un même bloc de code,\n",
    "  a déclarer deux variables ayant le même nom.\n",
    "\n",
    "* La première est « masquée » par la deuxième\n",
    "  (on ne peut plus l'utiliser).\n",
    "  \n",
    "* On simule ainsi le fait de changer le type d'une variable\n",
    "  (comme en Python ou en Javascript, par exemple)."
   ]
  },
  {
   "cell_type": "code",
   "execution_count": 22,
   "metadata": {},
   "outputs": [
    {
     "data": {
      "text/plain": [
       "\"the answer is 42\""
      ]
     },
     "execution_count": 22,
     "metadata": {},
     "output_type": "execute_result"
    }
   ],
   "source": [
    "let mut answer = 20; // type i32\n",
    "answer = answer+1;\n",
    "answer = answer*2;\n",
    "let answer = format!(\"the answer is {}\", answer); // type String\n",
    "answer"
   ]
  },
  {
   "cell_type": "markdown",
   "metadata": {
    "slideshow": {
     "slide_type": "-"
    }
   },
   "source": [
    "À utiliser avec précaution ; il est parfois plus judicieux (et plus lisible) d'utiliser un autre nom de variable."
   ]
  },
  {
   "cell_type": "markdown",
   "metadata": {
    "slideshow": {
     "slide_type": "subslide"
    }
   },
   "source": [
    "### Fonction générique (polymorphisme)"
   ]
  },
  {
   "cell_type": "code",
   "execution_count": 23,
   "metadata": {},
   "outputs": [],
   "source": [
    "/// Retourne l'indice de la plus petite valeur de a\n",
    "fn imin<T>(a: &[T]) -> usize \n",
    "//     ^^^      ^\n",
    "where T: PartialOrd\n",
    "{\n",
    "    let mut im = 0;\n",
    "    for i in 1..a.len() {\n",
    "        if a[i] < a[im] {\n",
    "            im = i;\n",
    "        }\n",
    "    }\n",
    "    im\n",
    "}"
   ]
  },
  {
   "cell_type": "markdown",
   "metadata": {},
   "source": [
    "* Les chevrons <> indiquent un paramètre générique.\n",
    "* La clause `where` ajoute des contraintes sur le type T : il doit supporter l'opérateur `<`.\n",
    "* Le compilateur générera une version de cette fonction pour chaque type avec laquelle on l'utilisera (« monoporphisation »)."
   ]
  },
  {
   "cell_type": "code",
   "execution_count": 24,
   "metadata": {
    "slideshow": {
     "slide_type": "subslide"
    }
   },
   "outputs": [
    {
     "data": {
      "text/plain": [
       "1"
      ]
     },
     "execution_count": 24,
     "metadata": {},
     "output_type": "execute_result"
    }
   ],
   "source": [
    "imin(&['h', 'b', 'g'])"
   ]
  },
  {
   "cell_type": "code",
   "execution_count": 25,
   "metadata": {},
   "outputs": [
    {
     "data": {
      "text/plain": [
       "1"
      ]
     },
     "execution_count": 25,
     "metadata": {},
     "output_type": "execute_result"
    }
   ],
   "source": [
    "imin(&[\"hello\", \"bonjour\", \"guten tag\"])"
   ]
  },
  {
   "cell_type": "code",
   "execution_count": 26,
   "metadata": {},
   "outputs": [
    {
     "data": {
      "text/plain": [
       "2"
      ]
     },
     "execution_count": 26,
     "metadata": {},
     "output_type": "execute_result"
    }
   ],
   "source": [
    "imin(&[(10, 'h'), (20, 'b'), (10, 'g')])"
   ]
  },
  {
   "cell_type": "markdown",
   "metadata": {
    "slideshow": {
     "slide_type": "slide"
    }
   },
   "source": [
    "## Affichage et formatage"
   ]
  },
  {
   "cell_type": "code",
   "execution_count": 27,
   "metadata": {
    "slideshow": {
     "slide_type": "subslide"
    }
   },
   "outputs": [
    {
     "name": "stdout",
     "output_type": "stream",
     "text": [
      "x vaut 42\n",
      "y vaut 3.14 et z vaut false\n"
     ]
    }
   ],
   "source": [
    "let x = 42;\n",
    "let y = 3.14;\n",
    "let z = false;\n",
    "\n",
    "println!(\"x vaut {}\\ny vaut {} et z vaut {}\", x, y, z);"
   ]
  },
  {
   "cell_type": "markdown",
   "metadata": {
    "slideshow": {
     "slide_type": "fragment"
    }
   },
   "source": [
    "* `println!` attend comme premier paramètre une chaîne **litérale** décrivant le format\n",
    "* `{}` est un emplacement pour les valeurs supplémentaires passées à `prinln!`.\n",
    "* On peut placer des options entre les accolades.\n",
    "\n",
    "Documentation complète : https://doc.rust-lang.org/std/fmt/index.html#usage"
   ]
  },
  {
   "cell_type": "code",
   "execution_count": 28,
   "metadata": {
    "slideshow": {
     "slide_type": "subslide"
    }
   },
   "outputs": [
    {
     "name": "stdout",
     "output_type": "stream",
     "text": [
      "1. 42\n",
      "2.  42\n",
      "3. 042\n",
      "4. 2A\n",
      "5. 101010\n",
      "6. 0000000000101010\n"
     ]
    }
   ],
   "source": [
    "let a = 42;\n",
    "println!(\"1. {}\", a);\n",
    "println!(\"2. {:3}\", a);    // largeur\n",
    "println!(\"3. {:03}\", a);   // largeur complétée par des zéros\n",
    "println!(\"4. {:X}\", a);    // hexadécimal\n",
    "println!(\"5. {:b}\", a);    // binaire\n",
    "println!(\"6. {:016b}\", a); // binaire sur 16 chiffres"
   ]
  },
  {
   "cell_type": "code",
   "execution_count": 29,
   "metadata": {
    "slideshow": {
     "slide_type": "subslide"
    }
   },
   "outputs": [],
   "source": [
    "let x = 42;\n",
    "let y = 3.14;\n",
    "let z = false;\n",
    "\n",
    "let message = format!(\"x vaut {}\\ny vaut {} et z vaut {}\", x, y, z);"
   ]
  },
  {
   "cell_type": "markdown",
   "metadata": {
    "slideshow": {
     "slide_type": "fragment"
    }
   },
   "source": [
    "* `format!` fonctionne comme `println!` mais retourne une `String`."
   ]
  },
  {
   "cell_type": "markdown",
   "metadata": {
    "slideshow": {
     "slide_type": "slide"
    }
   },
   "source": [
    "## Cargo\n",
    "\n",
    "Cargo est le gestionnaire de dépendance et de production de Rust.\n",
    "\n",
    "* `cargo new <dirname>` crée un nouveau projet\n",
    "* `cargo build` compile le projet\n",
    "* `cargo run` compile et exécute le projet\n",
    "* `cargo test` compile et exécute les tests unitaires\n",
    "* `cargo doc` génère la documentation"
   ]
  }
 ],
 "metadata": {
  "kernelspec": {
   "display_name": "Rust",
   "language": "rust",
   "name": "rust"
  },
  "language_info": {
   "codemirror_mode": "rust",
   "file_extension": ".rs",
   "mimetype": "text/rust",
   "name": "Rust",
   "pygment_lexer": "rust",
   "version": ""
  }
 },
 "nbformat": 4,
 "nbformat_minor": 2
}
